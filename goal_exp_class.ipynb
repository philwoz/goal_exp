{
 "cells": [
  {
   "cell_type": "code",
   "execution_count": 1,
   "id": "5a306dc5",
   "metadata": {},
   "outputs": [],
   "source": [
    "import pandas as pd\n",
    "import scipy.stats as sc"
   ]
  },
  {
   "cell_type": "code",
   "execution_count": 2,
   "id": "23bee8d1",
   "metadata": {},
   "outputs": [],
   "source": [
    "# get data from https://www.football-data.co.uk/\n",
    "data = pd.read_csv('https://www.football-data.co.uk/mmz4281/1516/E0.csv')\n",
    "\n",
    "#selecting columns from dataframe to work with\n",
    "data = data[['Date','HomeTeam','AwayTeam','FTHG','FTAG']]"
   ]
  },
  {
   "cell_type": "code",
   "execution_count": 3,
   "id": "03575b8b",
   "metadata": {},
   "outputs": [
    {
     "data": {
      "text/plain": [
       "array(['Bournemouth', 'Chelsea', 'Everton', 'Leicester', 'Man United',\n",
       "       'Norwich', 'Arsenal', 'Newcastle', 'Stoke', 'West Brom',\n",
       "       'Aston Villa', 'Southampton', 'Sunderland', 'Swansea', 'Tottenham',\n",
       "       'Watford', 'West Ham', 'Crystal Palace', 'Man City', 'Liverpool'],\n",
       "      dtype=object)"
      ]
     },
     "execution_count": 3,
     "metadata": {},
     "output_type": "execute_result"
    }
   ],
   "source": [
    "# number of league games for a full season and print of all teams in league to copy and paste \n",
    "lg_games = len(data['HomeTeam'].unique()) - 1\n",
    "data['HomeTeam'].unique()\n"
   ]
  },
  {
   "cell_type": "code",
   "execution_count": 4,
   "id": "1b95da55",
   "metadata": {},
   "outputs": [],
   "source": [
    "\n",
    "class Goal_Exp:\n",
    "    \n",
    "    def __init__(self, home, away, num_games, df):\n",
    "        self.home = home\n",
    "        self.away = away\n",
    "        self.num_games = num_games\n",
    "        self.df =  df\n",
    "        \n",
    "    # calculate average goals of all league two arguments of a data frame and num of games returns a lists\n",
    "    def calc_lge_avg(self):\n",
    "        team_count = len(self.df['HomeTeam'].unique())\n",
    "        games = self.df.tail(self.num_games * team_count)\n",
    "        homeMean = games['FTHG'].mean()\n",
    "        awayMean = games['FTAG'].mean()\n",
    "        return [homeMean, awayMean]\n",
    "    \n",
    "    # returns both teams last number of games in a list of dataframes\n",
    "    def team_last_games(self):\n",
    "        games = []\n",
    "        games.append(self.df[(self.df['HomeTeam']==self.home)].tail(self.num_games))\n",
    "        games.append(self.df[(self.df['AwayTeam']==self.away)].tail(self.num_games))\n",
    "        return games\n",
    "    \n",
    "    # get teams attacking and defensive strengths as a list value at index 1 is attacking strengths\n",
    "    # and defensive strength at index 2\n",
    "    def team_strengths(self):\n",
    "        df2 = self.team_last_games()\n",
    "        lg_avg = self.calc_lge_avg()\n",
    "        tm_avg = 0\n",
    "        stList = []\n",
    "        stList.append((df2[0]['FTHG'].mean()) / lg_avg[0])\n",
    "        stList.append((df2[0]['FTAG'].mean()) / lg_avg[1])\n",
    "        stList.append((df2[1]['FTAG'].mean()) / lg_avg[1])\n",
    "        stList.append((df2[1]['FTHG'].mean()) / lg_avg[0])\n",
    "    \n",
    "        return stList\n",
    "    \n",
    "    # calculate each teams expected goals\n",
    "    def exp_goals(self):\n",
    "        strengths = self.team_strengths()\n",
    "        lg_avg = self.calc_lge_avg()\n",
    "    \n",
    "        home_exp = round(strengths[0] * strengths[3] * lg_avg[0], 3)\n",
    "        away_exp = round(strengths[2] * strengths[1] * lg_avg[1], 3)\n",
    "    \n",
    "        return [home_exp, away_exp]\n",
    "    \n",
    "    # calculates implied probability scoring an certain amount of goals using possion Probability mass function\n",
    "    def goals_prob(self):\n",
    "        poss = []\n",
    "        goals = range(7)\n",
    "        expected = self.exp_goals()\n",
    "        for i in expected:\n",
    "            if expected.index(i) == 0:\n",
    "                aList = []\n",
    "                for g in goals:\n",
    "                    aList.append(sc.poisson.pmf(g, i))\n",
    "            elif expected.index(i) == 1:\n",
    "                aList = []\n",
    "                for g in goals:\n",
    "                    aList.append(sc.poisson.pmf(g, i))\n",
    "            poss.append(aList)\n",
    "        return poss\n",
    "    \n",
    "    # calaculate implied probability of each score by multiplying each teams goals probabilties\n",
    "    def calc_prob(self):\n",
    "     \n",
    "        new_list = [[],[],[]]\n",
    "        score_list = [[],[],[]]\n",
    "        home_list = self.goals_prob()[0]\n",
    "        away_list = self.goals_prob()[1]\n",
    "        index = 0\n",
    "        for i in home_list:\n",
    "            for j in range(len(away_list)):\n",
    "                home_ind = home_list.index(home_list[index])\n",
    "                away_ind = away_list.index(away_list[j])\n",
    "            \n",
    "                if home_ind > away_ind:\n",
    "                    new_list[0].append((i * away_list[j]) * 100)\n",
    "                    score_list[0].append(str(home_ind) + \"-\" + str(away_ind))\n",
    "                elif home_ind < away_ind:\n",
    "                    new_list[1].append((i * away_list[j]) * 100)\n",
    "                    score_list[1].append(str(home_ind) + \"-\" + str(away_ind))\n",
    "                else:\n",
    "                    new_list[2].append((i * away_list[j]) * 100)\n",
    "                    score_list[2].append(str(home_ind) + \"-\" + str(away_ind))\n",
    "                \n",
    "            index += 1\n",
    "            \n",
    "        new_list.append(score_list[0])\n",
    "        new_list.append(score_list[1])\n",
    "        new_list.append(score_list[2]) \n",
    "        return new_list\n",
    "    \n",
    "    # calculate Implied probability of match result odds\n",
    "    def match_imp_odds(self):\n",
    "        odds = self.calc_prob()\n",
    "        home_odd  = 1/((sum(odds[0])/100))\n",
    "        away_odd = 1/((sum(odds[1])/100))\n",
    "        draw_odd = 1/((sum(odds[2])/100))\n",
    "        return [round(home_odd, 3), round(draw_odd, 3), round(away_odd, 3)]\n",
    "    \n",
    "    # returns list of all data \n",
    "    def data_row(self):\n",
    "        lg_avg = self.calc_lge_avg()\n",
    "        last = self.team_last_games()\n",
    "        strg = self.team_strengths()\n",
    "        exp = self.exp_goals()\n",
    "        odds = self.match_imp_odds()\n",
    "        return [\n",
    "            self.num_games,\n",
    "            self.home,\n",
    "            last[0]['FTHG'].sum(),\n",
    "            last[0]['FTAG'].sum(),\n",
    "            round(strg[0], 3),\n",
    "            round(strg[1], 3),\n",
    "            exp[0],\n",
    "            self.away,\n",
    "            last[1]['FTHG'].sum(),\n",
    "            last[1]['FTAG'].sum(),\n",
    "            round(strg[2], 3),\n",
    "            round(strg[3], 3),\n",
    "            exp[1],\n",
    "            odds[0],\n",
    "            odds[1],\n",
    "            odds[2]\n",
    "            \n",
    "        ]\n",
    "    \n",
    "    \n",
    "    \n",
    "   "
   ]
  },
  {
   "cell_type": "code",
   "execution_count": 5,
   "id": "8e14a880",
   "metadata": {},
   "outputs": [],
   "source": [
    "g1 = Goal_Exp('Tottenham', 'Stoke', 19, data)"
   ]
  },
  {
   "cell_type": "code",
   "execution_count": 6,
   "id": "4ded728e",
   "metadata": {},
   "outputs": [
    {
     "data": {
      "text/plain": [
       "[1.4921052631578948, 1.2078947368421054]"
      ]
     },
     "execution_count": 6,
     "metadata": {},
     "output_type": "execute_result"
    }
   ],
   "source": [
    "g1.calc_lge_avg()"
   ]
  },
  {
   "cell_type": "code",
   "execution_count": null,
   "id": "47d90703",
   "metadata": {},
   "outputs": [],
   "source": [
    "\n"
   ]
  },
  {
   "cell_type": "code",
   "execution_count": 7,
   "id": "5420ba22",
   "metadata": {},
   "outputs": [
    {
     "data": {
      "text/plain": [
       "[1.2345679012345678, 0.6535947712418301, 0.8278867102396513, 1.09347442680776]"
      ]
     },
     "execution_count": 7,
     "metadata": {},
     "output_type": "execute_result"
    }
   ],
   "source": [
    "g1.team_strengths()"
   ]
  },
  {
   "cell_type": "code",
   "execution_count": 8,
   "id": "37514d77",
   "metadata": {},
   "outputs": [
    {
     "data": {
      "text/plain": [
       "[2.014, 0.654]"
      ]
     },
     "execution_count": 8,
     "metadata": {},
     "output_type": "execute_result"
    }
   ],
   "source": [
    "g1.exp_goals()"
   ]
  },
  {
   "cell_type": "code",
   "execution_count": 9,
   "id": "79d65124",
   "metadata": {
    "scrolled": true
   },
   "outputs": [],
   "source": [
    "# g1.calc_prob()"
   ]
  },
  {
   "cell_type": "code",
   "execution_count": 10,
   "id": "a396ac81",
   "metadata": {},
   "outputs": [
    {
     "name": "stdout",
     "output_type": "stream",
     "text": [
      "match odds >>> home : 1.451, draw : 5.111, away : 9.062\n"
     ]
    }
   ],
   "source": [
    " print(\"match odds >>> home : \" + str(g1.match_imp_odds()[0]) + \", draw : \" + str(g1.match_imp_odds()[1]) + \", away : \" + str(g1.match_imp_odds()[2]))  \n",
    "    "
   ]
  },
  {
   "cell_type": "code",
   "execution_count": 11,
   "id": "d80346de",
   "metadata": {},
   "outputs": [
    {
     "data": {
      "text/plain": [
       "[19,\n",
       " 'Tottenham',\n",
       " 35,\n",
       " 15,\n",
       " 1.235,\n",
       " 0.654,\n",
       " 2.014,\n",
       " 'Stoke',\n",
       " 31,\n",
       " 19,\n",
       " 0.828,\n",
       " 1.093,\n",
       " 0.654,\n",
       " 1.451,\n",
       " 5.111,\n",
       " 9.062]"
      ]
     },
     "execution_count": 11,
     "metadata": {},
     "output_type": "execute_result"
    }
   ],
   "source": [
    "g1.data_row()"
   ]
  },
  {
   "cell_type": "code",
   "execution_count": null,
   "id": "bb1639e8",
   "metadata": {},
   "outputs": [],
   "source": []
  },
  {
   "cell_type": "code",
   "execution_count": null,
   "id": "b02ebe37",
   "metadata": {},
   "outputs": [],
   "source": []
  }
 ],
 "metadata": {
  "kernelspec": {
   "display_name": "Python 3",
   "language": "python",
   "name": "python3"
  },
  "language_info": {
   "codemirror_mode": {
    "name": "ipython",
    "version": 3
   },
   "file_extension": ".py",
   "mimetype": "text/x-python",
   "name": "python",
   "nbconvert_exporter": "python",
   "pygments_lexer": "ipython3",
   "version": "3.8.8"
  }
 },
 "nbformat": 4,
 "nbformat_minor": 5
}
