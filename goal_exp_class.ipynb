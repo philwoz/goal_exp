{
 "cells": [
  {
   "cell_type": "code",
   "execution_count": 89,
   "id": "be091c04",
   "metadata": {},
   "outputs": [],
   "source": [
    "import pandas as pd\n",
    "import numpy as np\n",
    "import scipy.stats as sc\n"
   ]
  },
  {
   "cell_type": "code",
   "execution_count": 104,
   "id": "77754699",
   "metadata": {},
   "outputs": [],
   "source": [
    "# get data from https://www.football-data.co.uk/\n",
    "data = pd.read_csv(f'https://www.football-data.co.uk/mmz4281/1516/E0.csv')\n",
    "\n",
    "#selecting columns from dataframe to work with\n",
    "data = data[['Date','HomeTeam','AwayTeam','FTHG','FTAG']]\n"
   ]
  },
  {
   "cell_type": "code",
   "execution_count": null,
   "id": "b209c9d7",
   "metadata": {},
   "outputs": [],
   "source": []
  },
  {
   "cell_type": "code",
   "execution_count": 105,
   "id": "22e08896",
   "metadata": {},
   "outputs": [
    {
     "data": {
      "text/plain": [
       "array(['Bournemouth', 'Chelsea', 'Everton', 'Leicester', 'Man United',\n",
       "       'Norwich', 'Arsenal', 'Newcastle', 'Stoke', 'West Brom',\n",
       "       'Aston Villa', 'Southampton', 'Sunderland', 'Swansea', 'Tottenham',\n",
       "       'Watford', 'West Ham', 'Crystal Palace', 'Man City', 'Liverpool'],\n",
       "      dtype=object)"
      ]
     },
     "execution_count": 105,
     "metadata": {},
     "output_type": "execute_result"
    }
   ],
   "source": [
    "# number of league games for a full season and print of all teams in league to copy and paste \n",
    "lg_games = len(data['HomeTeam'].unique()) - 1\n",
    "data['HomeTeam'].unique()\n"
   ]
  },
  {
   "cell_type": "code",
   "execution_count": 106,
   "id": "2ff667a4",
   "metadata": {},
   "outputs": [],
   "source": [
    "\n",
    "class Goal_Exp:\n",
    "    \n",
    "    def __init__(self, home, away, num_games, df):\n",
    "        self.home = home\n",
    "        self.away = away\n",
    "        self.num_games = num_games\n",
    "        self.df =  df\n",
    "        \n",
    "    # calculate average goals of all league two arguments of a data frame and num of games returns a lists\n",
    "    def calc_lge_avg(self):\n",
    "        team_count = len(self.df['HomeTeam'].unique())\n",
    "        games = self.df.tail(self.num_games * team_count)\n",
    "        homeMean = games['FTHG'].mean()\n",
    "        awayMean = games['FTAG'].mean()\n",
    "        return [homeMean, awayMean]\n",
    "    \n",
    "    # returns both teams last number of games in a list of dataframes\n",
    "    def team_last_games(self):\n",
    "        games = []\n",
    "        games.append(self.df[(self.df['HomeTeam']==self.home)].tail(self.num_games))\n",
    "        games.append(self.df[(self.df['AwayTeam']==self.away)].tail(self.num_games))\n",
    "        return games\n",
    "    \n",
    "    # get teams attacking and defensive strengths as a list value at index 1 is attacking strengths\n",
    "    # and defensive strength at index 2\n",
    "    def team_strengths(self):\n",
    "        df2 = self.team_last_games()\n",
    "        lg_avg = self.calc_lge_avg()\n",
    "        tm_avg = 0\n",
    "        stList = []\n",
    "        stList.append((df2[0]['FTHG'].mean()) / lg_avg[0])\n",
    "        stList.append((df2[0]['FTAG'].mean()) / lg_avg[1])\n",
    "        stList.append((df2[1]['FTAG'].mean()) / lg_avg[1])\n",
    "        stList.append((df2[1]['FTHG'].mean()) / lg_avg[0])\n",
    "    \n",
    "        return stList\n",
    "    \n",
    "    # calculate each teams expected goals\n",
    "    def exp_goals(self):\n",
    "        strengths = self.team_strengths()\n",
    "        lg_avg = self.calc_lge_avg()\n",
    "    \n",
    "        home_exp = round(strengths[0] * strengths[3] * lg_avg[0], 3)\n",
    "        away_exp = round(strengths[2] * strengths[1] * lg_avg[1], 3)\n",
    "    \n",
    "        return [home_exp, away_exp]\n",
    "    \n",
    "    # calculates implied probability scoring an certain amount of goals using possion Probability mass function\n",
    "    def goals_prob(self):\n",
    "        poss = []\n",
    "        goals = range(7)\n",
    "        expected = self.exp_goals()\n",
    "        for i in expected:\n",
    "            if expected.index(i) == 0:\n",
    "                aList = []\n",
    "                for g in goals:\n",
    "                    aList.append(sc.poisson.pmf(g, i))\n",
    "            elif expected.index(i) == 1:\n",
    "                aList = []\n",
    "                for g in goals:\n",
    "                    aList.append(sc.poisson.pmf(g, i))\n",
    "            poss.append(aList)\n",
    "        return poss\n",
    "    # creates a dataframe with probabilties of correct score calulated by multiply\n",
    "    # the Poisson probability for each specific team to score a number of goals\n",
    "    def scores_table(self):\n",
    "        gls = self.goals_prob()\n",
    "        col= [['Possion num of gls'],[],[],[],[],[],[],[]]\n",
    "        index = 0\n",
    "        for lst in gls:\n",
    "            if gls.index(lst) == 0:\n",
    "                for e in lst:\n",
    "                    col[index + 1].append(round((e *100), 2))\n",
    "                    index +=1\n",
    "            elif gls.index(lst) == 1:\n",
    "                index = 0\n",
    "                for e in lst:\n",
    "                    col[0].append(round((e *100), 2))\n",
    "                    index +=1\n",
    "        index = 1            \n",
    "        for i in gls[0]:\n",
    "            for j in range(len(gls[1])):\n",
    "                col[index].append(round((i * gls[1][j])* 100, 2))\n",
    "            index += 1\n",
    "        df = pd.DataFrame(col,\n",
    "                         columns = [f'{self.away} goals', '0', '1', '2', '3', '4', '5', '6' ],\n",
    "                         index = [f'{self.home} goals', '0', '1', '2', '3', '4', '5', '6' ])\n",
    "        return df\n",
    "        \n",
    "    \n",
    "    # calaculate implied probability of each score by multiplying each teams goals probabilties\n",
    "    def calc_prob(self):\n",
    "        new_list = [[],[],[],[],[],[]]\n",
    "        home_list = self.goals_prob()[0]\n",
    "        away_list = self.goals_prob()[1]\n",
    "        index = 0\n",
    "        for i in home_list:\n",
    "            for j in range(len(away_list)):\n",
    "                home_ind = home_list.index(home_list[index])\n",
    "                away_ind = away_list.index(away_list[j])\n",
    "            \n",
    "                if home_ind > away_ind:\n",
    "                    new_list[0].append((i * away_list[j]) * 100)\n",
    "                    new_list[3].append(str(home_ind) + \"-\" + str(away_ind))\n",
    "                elif home_ind < away_ind:\n",
    "                    new_list[1].append((i * away_list[j]) * 100)\n",
    "                    new_list[4].append(str(home_ind) + \"-\" + str(away_ind))\n",
    "                else:\n",
    "                    new_list[2].append((i * away_list[j]) * 100)\n",
    "                    new_list[5].append(str(home_ind) + \"-\" + str(away_ind))\n",
    "                \n",
    "            index += 1\n",
    "            \n",
    "        return new_list\n",
    "    \n",
    "    # calculate Implied probability of match result odds\n",
    "    def match_imp_odds(self):\n",
    "        odds = self.calc_prob()\n",
    "        home_odd  = 1/((sum(odds[0])/100))\n",
    "        away_odd = 1/((sum(odds[1])/100))\n",
    "        draw_odd = 1/((sum(odds[2])/100))\n",
    "        return [round(home_odd, 3), round(draw_odd, 3), round(away_odd, 3)]\n",
    "    \n",
    "    # returns list of all data ready to append to a dataframe\n",
    "    def data_row(self):\n",
    "        lg_avg = self.calc_lge_avg()\n",
    "        last = self.team_last_games()\n",
    "        strg = self.team_strengths()\n",
    "        exp = self.exp_goals()\n",
    "        odds = self.match_imp_odds()\n",
    "        return [\n",
    "            self.num_games,\n",
    "            self.home,\n",
    "            last[0]['FTHG'].sum(),\n",
    "            last[0]['FTAG'].sum(),\n",
    "            round(strg[0], 3),\n",
    "            round(strg[1], 3),\n",
    "            exp[0],\n",
    "            self.away,\n",
    "            last[1]['FTHG'].sum(),\n",
    "            last[1]['FTAG'].sum(),\n",
    "            round(strg[2], 3),\n",
    "            round(strg[3], 3),\n",
    "            exp[1],\n",
    "            odds[0],\n",
    "            odds[1],\n",
    "            odds[2]\n",
    "            \n",
    "        ]\n",
    "    \n",
    "    \n",
    "    \n",
    "   "
   ]
  },
  {
   "cell_type": "code",
   "execution_count": 107,
   "id": "1113f045",
   "metadata": {},
   "outputs": [],
   "source": [
    "g1 = Goal_Exp('Tottenham', 'Stoke', 19, data)"
   ]
  },
  {
   "cell_type": "code",
   "execution_count": 114,
   "id": "da8b59a8",
   "metadata": {},
   "outputs": [
    {
     "data": {
      "text/html": [
       "<div>\n",
       "<style scoped>\n",
       "    .dataframe tbody tr th:only-of-type {\n",
       "        vertical-align: middle;\n",
       "    }\n",
       "\n",
       "    .dataframe tbody tr th {\n",
       "        vertical-align: top;\n",
       "    }\n",
       "\n",
       "    .dataframe thead th {\n",
       "        text-align: right;\n",
       "    }\n",
       "</style>\n",
       "<table border=\"1\" class=\"dataframe\">\n",
       "  <thead>\n",
       "    <tr style=\"text-align: right;\">\n",
       "      <th></th>\n",
       "      <th>Stoke goals</th>\n",
       "      <th>0</th>\n",
       "      <th>1</th>\n",
       "      <th>2</th>\n",
       "      <th>3</th>\n",
       "      <th>4</th>\n",
       "      <th>5</th>\n",
       "      <th>6</th>\n",
       "    </tr>\n",
       "  </thead>\n",
       "  <tbody>\n",
       "    <tr>\n",
       "      <th>Tottenham goals</th>\n",
       "      <td>Possion num of gls</td>\n",
       "      <td>52.00</td>\n",
       "      <td>34.01</td>\n",
       "      <td>11.12</td>\n",
       "      <td>2.42</td>\n",
       "      <td>0.40</td>\n",
       "      <td>0.05</td>\n",
       "      <td>0.01</td>\n",
       "    </tr>\n",
       "    <tr>\n",
       "      <th>0</th>\n",
       "      <td>13.35</td>\n",
       "      <td>6.94</td>\n",
       "      <td>4.54</td>\n",
       "      <td>1.48</td>\n",
       "      <td>0.32</td>\n",
       "      <td>0.05</td>\n",
       "      <td>0.01</td>\n",
       "      <td>0.00</td>\n",
       "    </tr>\n",
       "    <tr>\n",
       "      <th>1</th>\n",
       "      <td>26.88</td>\n",
       "      <td>13.98</td>\n",
       "      <td>9.14</td>\n",
       "      <td>2.99</td>\n",
       "      <td>0.65</td>\n",
       "      <td>0.11</td>\n",
       "      <td>0.01</td>\n",
       "      <td>0.00</td>\n",
       "    </tr>\n",
       "    <tr>\n",
       "      <th>2</th>\n",
       "      <td>27.07</td>\n",
       "      <td>14.07</td>\n",
       "      <td>9.20</td>\n",
       "      <td>3.01</td>\n",
       "      <td>0.66</td>\n",
       "      <td>0.11</td>\n",
       "      <td>0.01</td>\n",
       "      <td>0.00</td>\n",
       "    </tr>\n",
       "    <tr>\n",
       "      <th>3</th>\n",
       "      <td>18.17</td>\n",
       "      <td>9.45</td>\n",
       "      <td>6.18</td>\n",
       "      <td>2.02</td>\n",
       "      <td>0.44</td>\n",
       "      <td>0.07</td>\n",
       "      <td>0.01</td>\n",
       "      <td>0.00</td>\n",
       "    </tr>\n",
       "    <tr>\n",
       "      <th>4</th>\n",
       "      <td>9.15</td>\n",
       "      <td>4.76</td>\n",
       "      <td>3.11</td>\n",
       "      <td>1.02</td>\n",
       "      <td>0.22</td>\n",
       "      <td>0.04</td>\n",
       "      <td>0.00</td>\n",
       "      <td>0.00</td>\n",
       "    </tr>\n",
       "    <tr>\n",
       "      <th>5</th>\n",
       "      <td>3.69</td>\n",
       "      <td>1.92</td>\n",
       "      <td>1.25</td>\n",
       "      <td>0.41</td>\n",
       "      <td>0.09</td>\n",
       "      <td>0.01</td>\n",
       "      <td>0.00</td>\n",
       "      <td>0.00</td>\n",
       "    </tr>\n",
       "    <tr>\n",
       "      <th>6</th>\n",
       "      <td>1.24</td>\n",
       "      <td>0.64</td>\n",
       "      <td>0.42</td>\n",
       "      <td>0.14</td>\n",
       "      <td>0.03</td>\n",
       "      <td>0.00</td>\n",
       "      <td>0.00</td>\n",
       "      <td>0.00</td>\n",
       "    </tr>\n",
       "  </tbody>\n",
       "</table>\n",
       "</div>"
      ],
      "text/plain": [
       "                        Stoke goals      0      1      2     3     4     5  \\\n",
       "Tottenham goals  Possion num of gls  52.00  34.01  11.12  2.42  0.40  0.05   \n",
       "0                             13.35   6.94   4.54   1.48  0.32  0.05  0.01   \n",
       "1                             26.88  13.98   9.14   2.99  0.65  0.11  0.01   \n",
       "2                             27.07  14.07   9.20   3.01  0.66  0.11  0.01   \n",
       "3                             18.17   9.45   6.18   2.02  0.44  0.07  0.01   \n",
       "4                              9.15   4.76   3.11   1.02  0.22  0.04  0.00   \n",
       "5                              3.69   1.92   1.25   0.41  0.09  0.01  0.00   \n",
       "6                              1.24   0.64   0.42   0.14  0.03  0.00  0.00   \n",
       "\n",
       "                    6  \n",
       "Tottenham goals  0.01  \n",
       "0                0.00  \n",
       "1                0.00  \n",
       "2                0.00  \n",
       "3                0.00  \n",
       "4                0.00  \n",
       "5                0.00  \n",
       "6                0.00  "
      ]
     },
     "execution_count": 114,
     "metadata": {},
     "output_type": "execute_result"
    }
   ],
   "source": [
    "g1.scores_table()"
   ]
  },
  {
   "cell_type": "code",
   "execution_count": 115,
   "id": "4a9b8871",
   "metadata": {},
   "outputs": [
    {
     "data": {
      "text/plain": [
       "[1.4921052631578948, 1.2078947368421054]"
      ]
     },
     "execution_count": 115,
     "metadata": {},
     "output_type": "execute_result"
    }
   ],
   "source": [
    "g1.calc_lge_avg()"
   ]
  },
  {
   "cell_type": "code",
   "execution_count": 116,
   "id": "f56a30e1",
   "metadata": {},
   "outputs": [
    {
     "data": {
      "text/plain": [
       "[1.2345679012345678, 0.6535947712418301, 0.8278867102396513, 1.09347442680776]"
      ]
     },
     "execution_count": 116,
     "metadata": {},
     "output_type": "execute_result"
    }
   ],
   "source": [
    "g1.team_strengths()"
   ]
  },
  {
   "cell_type": "code",
   "execution_count": 117,
   "id": "3a4a2e14",
   "metadata": {},
   "outputs": [
    {
     "data": {
      "text/plain": [
       "[2.014, 0.654]"
      ]
     },
     "execution_count": 117,
     "metadata": {},
     "output_type": "execute_result"
    }
   ],
   "source": [
    "g1.exp_goals()"
   ]
  },
  {
   "cell_type": "code",
   "execution_count": 118,
   "id": "e7f68e50",
   "metadata": {},
   "outputs": [
    {
     "name": "stdout",
     "output_type": "stream",
     "text": [
      "match odds >>> home : 1.451, draw : 5.111, away : 9.062\n"
     ]
    }
   ],
   "source": [
    " print(\"match odds >>> home : \" + str(g1.match_imp_odds()[0]) + \", draw : \" + str(g1.match_imp_odds()[1]) + \", away : \" + str(g1.match_imp_odds()[2]))  \n",
    "    "
   ]
  },
  {
   "cell_type": "code",
   "execution_count": 119,
   "id": "cd49bb4d",
   "metadata": {
    "scrolled": true
   },
   "outputs": [
    {
     "data": {
      "text/plain": [
       "[19,\n",
       " 'Tottenham',\n",
       " 35,\n",
       " 15,\n",
       " 1.235,\n",
       " 0.654,\n",
       " 2.014,\n",
       " 'Stoke',\n",
       " 31,\n",
       " 19,\n",
       " 0.828,\n",
       " 1.093,\n",
       " 0.654,\n",
       " 1.451,\n",
       " 5.111,\n",
       " 9.062]"
      ]
     },
     "execution_count": 119,
     "metadata": {},
     "output_type": "execute_result"
    }
   ],
   "source": [
    "g1.data_row()"
   ]
  },
  {
   "cell_type": "code",
   "execution_count": null,
   "id": "81ecb74c",
   "metadata": {},
   "outputs": [],
   "source": []
  },
  {
   "cell_type": "code",
   "execution_count": null,
   "id": "9370b7c5",
   "metadata": {},
   "outputs": [],
   "source": []
  },
  {
   "cell_type": "code",
   "execution_count": null,
   "id": "2d01ee48",
   "metadata": {},
   "outputs": [],
   "source": []
  },
  {
   "cell_type": "code",
   "execution_count": null,
   "id": "e5456ff7",
   "metadata": {},
   "outputs": [],
   "source": []
  }
 ],
 "metadata": {
  "kernelspec": {
   "display_name": "Python 3",
   "language": "python",
   "name": "python3"
  },
  "language_info": {
   "codemirror_mode": {
    "name": "ipython",
    "version": 3
   },
   "file_extension": ".py",
   "mimetype": "text/x-python",
   "name": "python",
   "nbconvert_exporter": "python",
   "pygments_lexer": "ipython3",
   "version": "3.8.8"
  }
 },
 "nbformat": 4,
 "nbformat_minor": 5
}
