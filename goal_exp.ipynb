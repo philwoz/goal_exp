{
 "cells": [
  {
   "cell_type": "code",
   "execution_count": 1,
   "id": "f9fabffd",
   "metadata": {},
   "outputs": [],
   "source": [
    "from numpy import *\n",
    "import pandas as pd\n",
    "import numpy as np\n",
    "from scipy.stats import *\n"
   ]
  },
  {
   "cell_type": "code",
   "execution_count": 2,
   "id": "e7c7b079",
   "metadata": {},
   "outputs": [],
   "source": [
    "# get data from https://www.football-data.co.uk/\n",
    "data = pd.read_csv('https://www.football-data.co.uk/mmz4281/1516/E0.csv')\n",
    "#selecting columns from dataframe to work with\n",
    "data = data[['Date','HomeTeam','AwayTeam','FTHG','FTAG']]\n"
   ]
  },
  {
   "cell_type": "code",
   "execution_count": 3,
   "id": "59665a9e",
   "metadata": {},
   "outputs": [
    {
     "data": {
      "text/plain": [
       "array(['Bournemouth', 'Chelsea', 'Everton', 'Leicester', 'Man United',\n",
       "       'Norwich', 'Arsenal', 'Newcastle', 'Stoke', 'West Brom',\n",
       "       'Aston Villa', 'Southampton', 'Sunderland', 'Swansea', 'Tottenham',\n",
       "       'Watford', 'West Ham', 'Crystal Palace', 'Man City', 'Liverpool'],\n",
       "      dtype=object)"
      ]
     },
     "execution_count": 3,
     "metadata": {},
     "output_type": "execute_result"
    }
   ],
   "source": [
    "# number of league games for a full season and print of all teams in league to copy and paste \n",
    "lg_games = len(data['HomeTeam'].unique())\n",
    "data['HomeTeam'].unique()"
   ]
  },
  {
   "cell_type": "code",
   "execution_count": 17,
   "id": "9a12ef9b",
   "metadata": {},
   "outputs": [],
   "source": [
    "# calculate average goals of all league two arguments of a data frame and num of games returns a lists\n",
    "def calc_lge_avg(df, num_games):\n",
    "    team_count = len(df['HomeTeam'].unique())\n",
    "    games = df.tail(num_games * team_count)\n",
    "    homeMean = games['FTHG'].mean()\n",
    "    awayMean = games['FTAG'].mean()\n",
    "    return [homeMean, awayMean]"
   ]
  },
  {
   "cell_type": "code",
   "execution_count": 18,
   "id": "a3aed630",
   "metadata": {},
   "outputs": [
    {
     "name": "stdout",
     "output_type": "stream",
     "text": [
      "[1.4921052631578948, 1.2078947368421054]\n"
     ]
    }
   ],
   "source": [
    "print(calc_lge_avg(data, lg_games))"
   ]
  },
  {
   "cell_type": "code",
   "execution_count": 6,
   "id": "e363639e",
   "metadata": {},
   "outputs": [],
   "source": [
    "# get teams last number of games four arguments team name, home or away, num of games and dataframe \n",
    "def team_last_games(team, home_away, num_of_games, df):\n",
    "    games = df[(df[home_away]==team)].tail(num_of_games)\n",
    "    return games"
   ]
  },
  {
   "cell_type": "code",
   "execution_count": 7,
   "id": "ae44fdf8",
   "metadata": {},
   "outputs": [],
   "source": [
    "# get teams attacking and defensive strengths as a list value at index 1 is attacking strengths\n",
    "# and defensive strength at index 2\n",
    "def team_strengths(team, home_away, num_of_games, df):\n",
    "    df2 = team_last_games(team, home_away, num_of_games, df)\n",
    "    lg_avg = calc_lge_avg(df, num_of_games)\n",
    "    tm_avg = 0\n",
    "    stList = []\n",
    "    if home_away == 'HomeTeam':\n",
    "        stList.append((df2['FTHG'].mean()) / lg_avg[0])\n",
    "        stList.append((df2['FTAG'].mean()) / lg_avg[1])\n",
    "    elif home_away == 'AwayTeam':\n",
    "        stList.append((df2['FTAG'].mean()) / lg_avg[1])\n",
    "        stList.append((df2['FTHG'].mean()) / lg_avg[0])\n",
    "    \n",
    "    return stList"
   ]
  },
  {
   "cell_type": "code",
   "execution_count": 8,
   "id": "4d7b73e2",
   "metadata": {},
   "outputs": [],
   "source": [
    "# calculate each teams expected goals\n",
    "def exp_goals(home, away, num_of_games, data):\n",
    "    home_str =  team_strengths(home, 'HomeTeam', num_of_games, data)\n",
    "    away_str = team_strengths(away,'AwayTeam', num_of_games, data)\n",
    "    lg_avg = lg_avg = calc_lge_avg(data, num_of_games)\n",
    "    \n",
    "    home_exp = round(home_str[0] * away_str[1] * lg_avg[0], 3)\n",
    "    away_exp = round(away_str[0] * home_str[1] * lg_avg[1], 3)\n",
    "    \n",
    "    return [home_exp, away_exp]"
   ]
  },
  {
   "cell_type": "code",
   "execution_count": 9,
   "id": "84ccf8e9",
   "metadata": {},
   "outputs": [
    {
     "name": "stdout",
     "output_type": "stream",
     "text": [
      "[2.014, 0.654]\n"
     ]
    }
   ],
   "source": [
    "print(exp_goals('Tottenham', 'Stoke',lg_games , data))"
   ]
  },
  {
   "cell_type": "code",
   "execution_count": 10,
   "id": "fd32bf8a",
   "metadata": {},
   "outputs": [],
   "source": [
    "# calculates implied probability scoring an certain amount of goals using possion Probability mass function\n",
    "def goals_prob(home, away, num_games, df):\n",
    "    poss = []\n",
    "    goals = range(7)\n",
    "    expected = exp_goals(home, away, num_games, df)\n",
    "    for i in expected:\n",
    "        if expected.index(i) == 0:\n",
    "            aList = []\n",
    "            for g in goals:\n",
    "                aList.append(poisson.pmf(g, i))\n",
    "        elif expected.index(i) == 1:\n",
    "            aList = []\n",
    "            for g in goals:\n",
    "                aList.append(poisson.pmf(g, i))\n",
    "        poss.append(aList)\n",
    "    return poss\n",
    "    "
   ]
  },
  {
   "cell_type": "code",
   "execution_count": 11,
   "id": "918ef8a4",
   "metadata": {},
   "outputs": [],
   "source": [
    "# calaculate implied probability of each score by multiplying each teams goals probabilties\n",
    "def calc_prob(goal_list):\n",
    "    new_list = [[],[],[]]\n",
    "    score_list = [[],[],[]]\n",
    "    home_list = goal_list[0]\n",
    "    away_list = goal_list[1]\n",
    "    index = 0\n",
    "    for i in home_list:\n",
    "        for j in range(len(away_list)):\n",
    "            home_ind = home_list.index(home_list[index])\n",
    "            away_ind = away_list.index(away_list[j])\n",
    "            \n",
    "            \n",
    "            if home_ind > away_ind:\n",
    "                new_list[0].append((i * away_list[j]) * 100)\n",
    "                score_list[0].append(str(home_ind) + \"-\" + str(away_ind))\n",
    "            elif home_ind < away_ind:\n",
    "                new_list[1].append((i * away_list[j]) * 100)\n",
    "                score_list[1].append(str(home_ind) + \"-\" + str(away_ind))\n",
    "            else:\n",
    "                new_list[2].append((i * away_list[j]) * 100)\n",
    "                score_list[2].append(str(home_ind) + \"-\" + str(away_ind))\n",
    "                \n",
    "        index += 1\n",
    "    new_list.append(score_list[0])\n",
    "    new_list.append(score_list[1])\n",
    "    new_list.append(score_list[2]) \n",
    "    return new_list"
   ]
  },
  {
   "cell_type": "code",
   "execution_count": 16,
   "id": "7308bb58",
   "metadata": {},
   "outputs": [],
   "source": [
    "goal = goals_prob('Tottenham', 'Stoke', lg_games, data)\n",
    "odds = calc_prob(goal)\n"
   ]
  },
  {
   "cell_type": "code",
   "execution_count": 13,
   "id": "87ce7e4f",
   "metadata": {},
   "outputs": [
    {
     "name": "stdout",
     "output_type": "stream",
     "text": [
      "match odds >>> home : 1.451, draw : 5.111, away : 9.062\n"
     ]
    }
   ],
   "source": [
    "# calculate Implied probability of match result odds\n",
    "home_odd  = 1/((sum(odds[0])/100))\n",
    "away_odd = 1/((sum(odds[1])/100))\n",
    "draw_odd = 1/((sum(odds[2])/100))\n",
    "print(\"match odds >>> home : \" + str(round(home_odd , 3)) + \", draw : \" + str(round(draw_odd , 3)) + \", away : \" + str(round(away_odd, 3))  )"
   ]
  },
  {
   "cell_type": "code",
   "execution_count": 14,
   "id": "f20096fe",
   "metadata": {},
   "outputs": [
    {
     "name": "stdout",
     "output_type": "stream",
     "text": [
      "max home score : 2-0, 14.07314813326849\n",
      "max away score : 0-1, 4.538162790534575\n",
      "max draw score : 1-1, 9.139859860136635\n"
     ]
    }
   ],
   "source": [
    "# calculate the scores with the highest implied probabilty\n",
    "max_home = max(odds[0])\n",
    "max_away = max(odds[1])\n",
    "max_draw = max(odds[2])\n",
    "home_score = odds[3][odds[0].index(max_home)]\n",
    "away_score = odds[4][odds[1].index(max_away)]\n",
    "draw_score = odds[5][odds[2].index(max_draw)]\n",
    "print(\"max home score : \" + str(home_score) + \", \" + str(max_home) + \n",
    "      \"\\nmax away score : \" + str(away_score) + \", \" + str(max_away) + \n",
    "      \"\\nmax draw score : \" + str(draw_score) + \", \" + str(max_draw))\n"
   ]
  },
  {
   "cell_type": "code",
   "execution_count": null,
   "id": "10ad427d",
   "metadata": {},
   "outputs": [],
   "source": []
  }
 ],
 "metadata": {
  "kernelspec": {
   "display_name": "Python 3",
   "language": "python",
   "name": "python3"
  },
  "language_info": {
   "codemirror_mode": {
    "name": "ipython",
    "version": 3
   },
   "file_extension": ".py",
   "mimetype": "text/x-python",
   "name": "python",
   "nbconvert_exporter": "python",
   "pygments_lexer": "ipython3",
   "version": "3.8.8"
  }
 },
 "nbformat": 4,
 "nbformat_minor": 5
}
