{
 "cells": [
  {
   "cell_type": "code",
   "execution_count": 14,
   "id": "f9fabffd",
   "metadata": {},
   "outputs": [],
   "source": [
    "from pandas import *\n",
    "# from numpy import *\n",
    "import pandas as pd\n",
    "# import numpy as np\n",
    "from scipy.stats import *\n"
   ]
  },
  {
   "cell_type": "code",
   "execution_count": 15,
   "id": "e7c7b079",
   "metadata": {},
   "outputs": [],
   "source": [
    "# get data from https://www.football-data.co.uk/\n",
    "data = pd.read_csv('https://www.football-data.co.uk/mmz4281/1516/E0.csv')\n",
    "\n",
    "data = data[['Date','HomeTeam','AwayTeam','FTHG','FTAG']]\n"
   ]
  },
  {
   "cell_type": "code",
   "execution_count": 16,
   "id": "59665a9e",
   "metadata": {},
   "outputs": [
    {
     "data": {
      "text/plain": [
       "array(['Bournemouth', 'Chelsea', 'Everton', 'Leicester', 'Man United',\n",
       "       'Norwich', 'Arsenal', 'Newcastle', 'Stoke', 'West Brom',\n",
       "       'Aston Villa', 'Southampton', 'Sunderland', 'Swansea', 'Tottenham',\n",
       "       'Watford', 'West Ham', 'Crystal Palace', 'Man City', 'Liverpool'],\n",
       "      dtype=object)"
      ]
     },
     "execution_count": 16,
     "metadata": {},
     "output_type": "execute_result"
    }
   ],
   "source": [
    "lg_games = len(data['HomeTeam'].unique())\n",
    "data['HomeTeam'].unique()"
   ]
  },
  {
   "cell_type": "code",
   "execution_count": 17,
   "id": "9a12ef9b",
   "metadata": {},
   "outputs": [],
   "source": [
    "# calculate average goals of all league two arguments of a data frame and num of games returns a lists\n",
    "def calc_lge_avg(df, num_games = 23):\n",
    "    team_count = len(df['HomeTeam'].unique())\n",
    "    games = df.tail(num_games * team_count)\n",
    "    homeMean = games['FTHG'].mean()\n",
    "    awayMean = games['FTAG'].mean()\n",
    "    return [homeMean, awayMean]\n",
    "    "
   ]
  },
  {
   "cell_type": "code",
   "execution_count": 18,
   "id": "a3aed630",
   "metadata": {},
   "outputs": [
    {
     "name": "stdout",
     "output_type": "stream",
     "text": [
      "[1.4921052631578948, 1.2078947368421054]\n"
     ]
    }
   ],
   "source": [
    "print(calc_lge_avg(data, num_games = 23))"
   ]
  },
  {
   "cell_type": "code",
   "execution_count": 19,
   "id": "e363639e",
   "metadata": {},
   "outputs": [],
   "source": [
    "# get teams last number of games four arguments team name, home or away, num of games and dataframe \n",
    "def team_last_games(team, home_away, num_of_games, df):\n",
    "    games = df[(df[home_away]==team)].tail(num_of_games)\n",
    "    return games\n",
    "    "
   ]
  },
  {
   "cell_type": "code",
   "execution_count": 20,
   "id": "ae44fdf8",
   "metadata": {},
   "outputs": [],
   "source": [
    "# get teams attacking and defensive strengths as a list value at index 1 is attacking strengths\n",
    "# and defensive strength at index 2\n",
    "def team_strengths(team, home_away, num_of_games, df):\n",
    "    df2 = team_last_games(team, home_away, num_of_games, df)\n",
    "    lg_avg = calc_lge_avg(df, num_of_games)\n",
    "    tm_avg = 0\n",
    "    stList = []\n",
    "    if home_away == 'HomeTeam':\n",
    "        stList.append((df2['FTHG'].mean()) / lg_avg[0])\n",
    "        stList.append((df2['FTAG'].mean()) / lg_avg[1])\n",
    "    elif home_away == 'AwayTeam':\n",
    "        stList.append((df2['FTAG'].mean()) / lg_avg[1])\n",
    "        stList.append((df2['FTHG'].mean()) / lg_avg[0])\n",
    "    \n",
    "    return stList\n",
    "        \n",
    "    "
   ]
  },
  {
   "cell_type": "code",
   "execution_count": 21,
   "id": "be6ad5ed",
   "metadata": {},
   "outputs": [
    {
     "name": "stdout",
     "output_type": "stream",
     "text": [
      "[0.8278867102396513, 1.09347442680776]\n"
     ]
    }
   ],
   "source": [
    "print(team_strengths('Stoke', 'AwayTeam', 19, data))"
   ]
  },
  {
   "cell_type": "code",
   "execution_count": 22,
   "id": "abc2f80d",
   "metadata": {},
   "outputs": [
    {
     "name": "stdout",
     "output_type": "stream",
     "text": [
      "[1.2345679012345678, 0.6535947712418301]\n"
     ]
    }
   ],
   "source": [
    "print(team_strengths('Tottenham', 'HomeTeam', 19, data))"
   ]
  },
  {
   "cell_type": "code",
   "execution_count": 23,
   "id": "4d7b73e2",
   "metadata": {},
   "outputs": [],
   "source": [
    "# calculate each teams expected goals\n",
    "def exp_goals(home, away, num_of_games, data):\n",
    "    home_str =  team_strengths(home, 'HomeTeam', num_of_games, data)\n",
    "    away_str = team_strengths(away,'AwayTeam', num_of_games, data)\n",
    "    lg_avg = lg_avg = calc_lge_avg(data, num_of_games)\n",
    "    \n",
    "    home_exp = round(home_str[0] * away_str[1] * lg_avg[0], 3)\n",
    "    away_exp = round(away_str[0] * home_str[1] * lg_avg[1], 3)\n",
    "    \n",
    "    return [home_exp, away_exp]\n",
    "    "
   ]
  },
  {
   "cell_type": "code",
   "execution_count": 24,
   "id": "84ccf8e9",
   "metadata": {},
   "outputs": [
    {
     "name": "stdout",
     "output_type": "stream",
     "text": [
      "[2.014, 0.654]\n"
     ]
    }
   ],
   "source": [
    "print(exp_goals('Tottenham', 'Stoke',lg_games , data))"
   ]
  },
  {
   "cell_type": "code",
   "execution_count": 25,
   "id": "fd32bf8a",
   "metadata": {},
   "outputs": [],
   "source": [
    "# calculates probability scoring an amount of goals using possion Probability mass function\n",
    "def goals_prob(home, away, num_games, df):\n",
    "    poss = []\n",
    "    goals = [0, 1, 2, 3, 4, 5, 6]\n",
    "    expected = exp_goals(home, away, num_games, df)\n",
    "    for i in expected:\n",
    "        if expected.index(i) == 0:\n",
    "            aList = []\n",
    "            for g in goals:\n",
    "                aList.append(round(poisson.pmf(g, i) * 100, 2))\n",
    "        elif expected.index(i) == 1:\n",
    "            aList = []\n",
    "            for g in goals:\n",
    "                aList.append(round(poisson.pmf(g, i) * 100, 2))\n",
    "        poss.append(aList)\n",
    "    return poss\n",
    "    "
   ]
  },
  {
   "cell_type": "code",
   "execution_count": 26,
   "id": "d538ec1b",
   "metadata": {},
   "outputs": [
    {
     "name": "stdout",
     "output_type": "stream",
     "text": [
      "[[13.35, 26.88, 27.07, 18.17, 9.15, 3.69, 1.24], [52.0, 34.01, 11.12, 2.42, 0.4, 0.05, 0.01]]\n"
     ]
    }
   ],
   "source": [
    "print(goals_prob('Tottenham', 'Stoke', lg_games, data))"
   ]
  },
  {
   "cell_type": "code",
   "execution_count": null,
   "id": "918ef8a4",
   "metadata": {},
   "outputs": [],
   "source": []
  },
  {
   "cell_type": "code",
   "execution_count": null,
   "id": "95fd2716",
   "metadata": {},
   "outputs": [],
   "source": []
  }
 ],
 "metadata": {
  "kernelspec": {
   "display_name": "Python 3",
   "language": "python",
   "name": "python3"
  },
  "language_info": {
   "codemirror_mode": {
    "name": "ipython",
    "version": 3
   },
   "file_extension": ".py",
   "mimetype": "text/x-python",
   "name": "python",
   "nbconvert_exporter": "python",
   "pygments_lexer": "ipython3",
   "version": "3.8.8"
  }
 },
 "nbformat": 4,
 "nbformat_minor": 5
}
