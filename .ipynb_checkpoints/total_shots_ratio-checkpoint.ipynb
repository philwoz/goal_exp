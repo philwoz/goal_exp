{
 "cells": [
  {
   "cell_type": "code",
   "execution_count": 1,
   "id": "1779f11d",
   "metadata": {},
   "outputs": [],
   "source": [
    "import pandas as pd"
   ]
  },
  {
   "cell_type": "code",
   "execution_count": 2,
   "id": "1fd28d28",
   "metadata": {},
   "outputs": [
    {
     "data": {
      "text/html": [
       "<div>\n",
       "<style scoped>\n",
       "    .dataframe tbody tr th:only-of-type {\n",
       "        vertical-align: middle;\n",
       "    }\n",
       "\n",
       "    .dataframe tbody tr th {\n",
       "        vertical-align: top;\n",
       "    }\n",
       "\n",
       "    .dataframe thead th {\n",
       "        text-align: right;\n",
       "    }\n",
       "</style>\n",
       "<table border=\"1\" class=\"dataframe\">\n",
       "  <thead>\n",
       "    <tr style=\"text-align: right;\">\n",
       "      <th></th>\n",
       "      <th>Date</th>\n",
       "      <th>HomeTeam</th>\n",
       "      <th>AwayTeam</th>\n",
       "      <th>HST</th>\n",
       "      <th>AST</th>\n",
       "      <th>FTHG</th>\n",
       "      <th>FTAG</th>\n",
       "    </tr>\n",
       "  </thead>\n",
       "  <tbody>\n",
       "    <tr>\n",
       "      <th>0</th>\n",
       "      <td>12/09/2020</td>\n",
       "      <td>Fulham</td>\n",
       "      <td>Arsenal</td>\n",
       "      <td>2</td>\n",
       "      <td>6</td>\n",
       "      <td>0</td>\n",
       "      <td>3</td>\n",
       "    </tr>\n",
       "    <tr>\n",
       "      <th>1</th>\n",
       "      <td>12/09/2020</td>\n",
       "      <td>Crystal Palace</td>\n",
       "      <td>Southampton</td>\n",
       "      <td>3</td>\n",
       "      <td>5</td>\n",
       "      <td>1</td>\n",
       "      <td>0</td>\n",
       "    </tr>\n",
       "    <tr>\n",
       "      <th>2</th>\n",
       "      <td>12/09/2020</td>\n",
       "      <td>Liverpool</td>\n",
       "      <td>Leeds</td>\n",
       "      <td>6</td>\n",
       "      <td>3</td>\n",
       "      <td>4</td>\n",
       "      <td>3</td>\n",
       "    </tr>\n",
       "    <tr>\n",
       "      <th>3</th>\n",
       "      <td>12/09/2020</td>\n",
       "      <td>West Ham</td>\n",
       "      <td>Newcastle</td>\n",
       "      <td>3</td>\n",
       "      <td>2</td>\n",
       "      <td>0</td>\n",
       "      <td>2</td>\n",
       "    </tr>\n",
       "    <tr>\n",
       "      <th>4</th>\n",
       "      <td>13/09/2020</td>\n",
       "      <td>West Brom</td>\n",
       "      <td>Leicester</td>\n",
       "      <td>1</td>\n",
       "      <td>7</td>\n",
       "      <td>0</td>\n",
       "      <td>3</td>\n",
       "    </tr>\n",
       "  </tbody>\n",
       "</table>\n",
       "</div>"
      ],
      "text/plain": [
       "         Date        HomeTeam     AwayTeam  HST  AST  FTHG  FTAG\n",
       "0  12/09/2020          Fulham      Arsenal    2    6     0     3\n",
       "1  12/09/2020  Crystal Palace  Southampton    3    5     1     0\n",
       "2  12/09/2020       Liverpool        Leeds    6    3     4     3\n",
       "3  12/09/2020        West Ham    Newcastle    3    2     0     2\n",
       "4  13/09/2020       West Brom    Leicester    1    7     0     3"
      ]
     },
     "execution_count": 2,
     "metadata": {},
     "output_type": "execute_result"
    }
   ],
   "source": [
    "# get data from https://www.football-data.co.uk/\n",
    "data = pd.read_csv('https://www.football-data.co.uk/mmz4281/2021/E0.csv')\n",
    "\n",
    "#selecting columns from dataframe to work with\n",
    "data = data[['Date','HomeTeam','AwayTeam','HST','AST','FTHG','FTAG']]\n",
    "data.head(5)"
   ]
  },
  {
   "cell_type": "code",
   "execution_count": 3,
   "id": "1306492e",
   "metadata": {},
   "outputs": [
    {
     "data": {
      "text/plain": [
       "array(['Fulham', 'Crystal Palace', 'Liverpool', 'West Ham', 'West Brom',\n",
       "       'Tottenham', 'Brighton', 'Sheffield United', 'Everton', 'Leeds',\n",
       "       'Man United', 'Arsenal', 'Southampton', 'Newcastle', 'Chelsea',\n",
       "       'Leicester', 'Aston Villa', 'Wolves', 'Burnley', 'Man City'],\n",
       "      dtype=object)"
      ]
     },
     "execution_count": 3,
     "metadata": {},
     "output_type": "execute_result"
    }
   ],
   "source": [
    "# number of league games for a full season and print of all teams in league to copy and paste \n",
    "lg_games = len(data['HomeTeam'].unique()) - 1\n",
    "data['HomeTeam'].unique()"
   ]
  },
  {
   "cell_type": "code",
   "execution_count": null,
   "id": "f98e7170",
   "metadata": {},
   "outputs": [],
   "source": []
  },
  {
   "cell_type": "code",
   "execution_count": 11,
   "id": "f141fcd1",
   "metadata": {},
   "outputs": [],
   "source": [
    "class Total_Shots_Ratio:\n",
    "     def __init__(self, home, away, num_games, df):\n",
    "        self.home = home\n",
    "        self.away = away\n",
    "        self.num_games = num_games\n",
    "        self.df =  df\n",
    "        \n",
    "     # returns both teams last number of games in a list of dataframes\n",
    "     def team_last_games(self):\n",
    "        games = []\n",
    "        games.append(self.df[(self.df['HomeTeam']==self.home)].tail(self.num_games))\n",
    "        games.append(self.df[(self.df['AwayTeam']==self.away)].tail(self.num_games))\n",
    "        return games\n",
    "    \n",
    "     def get_teams_values(self):\n",
    "            home_sh_for = self.team_last_games()[0]['HST'].sum()\n",
    "            home_sh_ang = self.team_last_games()[0]['AST'].sum()\n",
    "            home_gl_for = self.team_last_games()[0]['FTHG'].sum()\n",
    "            home_gl_ang = self.team_last_games()[0]['FTAG'].sum()\n",
    "            \n",
    "            away_sh_for = self.team_last_games()[1]['AST'].sum()\n",
    "            away_sh_ang = self.team_last_games()[1]['HST'].sum()\n",
    "            away_gl_for = self.team_last_games()[1]['FTAG'].sum()\n",
    "            away_gl_ang = self.team_last_games()[1]['FTHG'].sum()\n",
    "            \n",
    "            return [[home_sh_for, home_sh_ang, home_gl_for, home_gl_ang],\n",
    "                    [away_sh_for, away_sh_ang, away_gl_for, away_gl_ang ]]\n",
    "    \n",
    "    # calculates teams total shots ratio\n",
    "     def calc_tsr(self):\n",
    "        lst = self.get_teams_values()\n",
    "        home_tsr = round(lst[0][0]/(lst[0][0]+lst[0][1]), 3)\n",
    "        away_tsr = round(lst[1][0] /(lst[1][0]+lst[1][1]), 3)\n",
    "        \n",
    "        return [home_tsr, away_tsr]\n",
    "    \n",
    "    # calculate a difference \n",
    "     def calc_diff(self):\n",
    "        d = self.calc_tsr()\n",
    "        return round(d[0] - d[1], 3)\n",
    "    \n",
    "    # conversion rates percentage how many shots are resulting in goals\n",
    "     def conv_rate(self):\n",
    "        lst = self.get_teams_values()\n",
    "        home_for = lst[0][2] / lst[0][0]\n",
    "        home_ang = lst[0][3] / lst[0][1]\n",
    "        away_for = lst[1][3] / lst[1][1]\n",
    "        away_ang = lst[1][2] / lst[1][0]\n",
    "        \n",
    "        return [home_for, home_ang, away_for, away_ang ]\n",
    "    \n",
    "        "
   ]
  },
  {
   "cell_type": "code",
   "execution_count": 16,
   "id": "9104c8f6",
   "metadata": {},
   "outputs": [],
   "source": [
    "tsr1 = Total_Shots_Ratio('Tottenham', 'Man City', 6, data)"
   ]
  },
  {
   "cell_type": "code",
   "execution_count": 17,
   "id": "7126229b",
   "metadata": {},
   "outputs": [
    {
     "data": {
      "text/plain": [
       "[0.65, 0.574]"
      ]
     },
     "execution_count": 17,
     "metadata": {},
     "output_type": "execute_result"
    }
   ],
   "source": [
    "tsr1.calc_tsr()"
   ]
  },
  {
   "cell_type": "code",
   "execution_count": 18,
   "id": "5e485154",
   "metadata": {},
   "outputs": [
    {
     "data": {
      "text/plain": [
       "0.076"
      ]
     },
     "execution_count": 18,
     "metadata": {},
     "output_type": "execute_result"
    }
   ],
   "source": [
    "tsr1.calc_diff()"
   ]
  },
  {
   "cell_type": "code",
   "execution_count": 19,
   "id": "0efda606",
   "metadata": {},
   "outputs": [
    {
     "data": {
      "text/plain": [
       "[0.358974358974359, 0.3333333333333333, 0.35, 0.5555555555555556]"
      ]
     },
     "execution_count": 19,
     "metadata": {},
     "output_type": "execute_result"
    }
   ],
   "source": [
    "tsr1.conv_rate()"
   ]
  },
  {
   "cell_type": "code",
   "execution_count": null,
   "id": "e231bfc5",
   "metadata": {},
   "outputs": [],
   "source": []
  }
 ],
 "metadata": {
  "kernelspec": {
   "display_name": "Python 3",
   "language": "python",
   "name": "python3"
  },
  "language_info": {
   "codemirror_mode": {
    "name": "ipython",
    "version": 3
   },
   "file_extension": ".py",
   "mimetype": "text/x-python",
   "name": "python",
   "nbconvert_exporter": "python",
   "pygments_lexer": "ipython3",
   "version": "3.8.8"
  }
 },
 "nbformat": 4,
 "nbformat_minor": 5
}
