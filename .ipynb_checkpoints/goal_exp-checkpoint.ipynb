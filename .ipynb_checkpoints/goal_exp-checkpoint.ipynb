{
 "cells": [
  {
   "cell_type": "code",
   "execution_count": 83,
   "id": "f9fabffd",
   "metadata": {},
   "outputs": [],
   "source": [
    "from pandas import *\n",
    "import pandas as pd\n",
    "import numpy as np"
   ]
  },
  {
   "cell_type": "code",
   "execution_count": 84,
   "id": "e7c7b079",
   "metadata": {},
   "outputs": [],
   "source": [
    "# get data from https://www.football-data.co.uk/\n",
    "data = pd.read_csv('https://www.football-data.co.uk/mmz4281/1516/E0.csv')\n",
    "\n",
    "data = data[['Date','HomeTeam','AwayTeam','FTHG','FTAG']]\n"
   ]
  },
  {
   "cell_type": "code",
   "execution_count": 85,
   "id": "da124e40",
   "metadata": {},
   "outputs": [
    {
     "data": {
      "text/html": [
       "<div>\n",
       "<style scoped>\n",
       "    .dataframe tbody tr th:only-of-type {\n",
       "        vertical-align: middle;\n",
       "    }\n",
       "\n",
       "    .dataframe tbody tr th {\n",
       "        vertical-align: top;\n",
       "    }\n",
       "\n",
       "    .dataframe thead th {\n",
       "        text-align: right;\n",
       "    }\n",
       "</style>\n",
       "<table border=\"1\" class=\"dataframe\">\n",
       "  <thead>\n",
       "    <tr style=\"text-align: right;\">\n",
       "      <th></th>\n",
       "      <th>Date</th>\n",
       "      <th>HomeTeam</th>\n",
       "      <th>AwayTeam</th>\n",
       "      <th>FTHG</th>\n",
       "      <th>FTAG</th>\n",
       "    </tr>\n",
       "  </thead>\n",
       "  <tbody>\n",
       "    <tr>\n",
       "      <th>375</th>\n",
       "      <td>15/05/2016</td>\n",
       "      <td>Stoke</td>\n",
       "      <td>West Ham</td>\n",
       "      <td>2</td>\n",
       "      <td>1</td>\n",
       "    </tr>\n",
       "    <tr>\n",
       "      <th>376</th>\n",
       "      <td>15/05/2016</td>\n",
       "      <td>Swansea</td>\n",
       "      <td>Man City</td>\n",
       "      <td>1</td>\n",
       "      <td>1</td>\n",
       "    </tr>\n",
       "    <tr>\n",
       "      <th>377</th>\n",
       "      <td>15/05/2016</td>\n",
       "      <td>Watford</td>\n",
       "      <td>Sunderland</td>\n",
       "      <td>2</td>\n",
       "      <td>2</td>\n",
       "    </tr>\n",
       "    <tr>\n",
       "      <th>378</th>\n",
       "      <td>15/05/2016</td>\n",
       "      <td>West Brom</td>\n",
       "      <td>Liverpool</td>\n",
       "      <td>1</td>\n",
       "      <td>1</td>\n",
       "    </tr>\n",
       "    <tr>\n",
       "      <th>379</th>\n",
       "      <td>17/05/2016</td>\n",
       "      <td>Man United</td>\n",
       "      <td>Bournemouth</td>\n",
       "      <td>3</td>\n",
       "      <td>1</td>\n",
       "    </tr>\n",
       "  </tbody>\n",
       "</table>\n",
       "</div>"
      ],
      "text/plain": [
       "           Date    HomeTeam     AwayTeam  FTHG  FTAG\n",
       "375  15/05/2016       Stoke     West Ham     2     1\n",
       "376  15/05/2016     Swansea     Man City     1     1\n",
       "377  15/05/2016     Watford   Sunderland     2     2\n",
       "378  15/05/2016   West Brom    Liverpool     1     1\n",
       "379  17/05/2016  Man United  Bournemouth     3     1"
      ]
     },
     "execution_count": 85,
     "metadata": {},
     "output_type": "execute_result"
    }
   ],
   "source": [
    "data.tail(5)"
   ]
  },
  {
   "cell_type": "code",
   "execution_count": null,
   "id": "80f1ea4b",
   "metadata": {},
   "outputs": [],
   "source": []
  },
  {
   "cell_type": "code",
   "execution_count": 86,
   "id": "9a12ef9b",
   "metadata": {},
   "outputs": [],
   "source": [
    "# calculate average goals of all league two arguments of a data frame and num of games returns a lists\n",
    "def calc_lge_avg(df, num_games = 23):\n",
    "    team_count = len(df['HomeTeam'].unique())\n",
    "    games = df.tail(num_games * team_count)\n",
    "    homeMean = games['FTHG'].mean()\n",
    "    awayMean = games['FTAG'].mean()\n",
    "    return [homeMean, awayMean]\n",
    "    "
   ]
  },
  {
   "cell_type": "code",
   "execution_count": 87,
   "id": "e363639e",
   "metadata": {},
   "outputs": [],
   "source": [
    "# get teams last number of games four arguments team name, home or away, num of games and dataframe \n",
    "def team_last_games(team, home_away, num_of_games, df):\n",
    "    games = df[(df[home_away]==team)].tail(num_of_games)\n",
    "    return games\n",
    "    "
   ]
  },
  {
   "cell_type": "code",
   "execution_count": 88,
   "id": "13ff457b",
   "metadata": {},
   "outputs": [
    {
     "name": "stdout",
     "output_type": "stream",
     "text": [
      "           Date  HomeTeam     AwayTeam  FTHG  FTAG\n",
      "259  14/02/2016  Man City    Tottenham     1     2\n",
      "280  05/03/2016  Man City  Aston Villa     4     0\n",
      "299  20/03/2016  Man City   Man United     0     1\n",
      "315  09/04/2016  Man City    West Brom     2     1\n",
      "342  23/04/2016  Man City        Stoke     4     0\n",
      "364  08/05/2016  Man City      Arsenal     2     2\n"
     ]
    }
   ],
   "source": [
    "print(team_last_games('Man City', 'HomeTeam', 6, data))"
   ]
  },
  {
   "cell_type": "code",
   "execution_count": 94,
   "id": "ae44fdf8",
   "metadata": {},
   "outputs": [],
   "source": [
    "# get teams attacking and defensive strengths as a list value at index 1 is attacking strengths\n",
    "# and defensive strength at index 2\n",
    "def team_strengths(team, home_away, num_of_games, df):\n",
    "    df2 = team_last_games(team, home_away, num_of_games, df)\n",
    "    lg_avg = calc_lge_avg(df, num_of_games)\n",
    "    tm_avg = 0\n",
    "    stList = []\n",
    "    if home_away == 'HomeTeam':\n",
    "        stList.append((df2['FTHG'].mean()) / lg_avg[0])\n",
    "        stList.append((df2['FTAG'].mean()) / lg_avg[1])\n",
    "    elif home_away == 'AwayTeam':\n",
    "        stList.append((df2['FTAG'].mean()) / lg_avg[1])\n",
    "        stList.append((df2['FTHG'].mean()) / lg_avg[0])\n",
    "    \n",
    "    return stList\n",
    "        \n",
    "    "
   ]
  },
  {
   "cell_type": "code",
   "execution_count": 95,
   "id": "be6ad5ed",
   "metadata": {},
   "outputs": [
    {
     "name": "stdout",
     "output_type": "stream",
     "text": [
      "[0.828, 1.093]\n"
     ]
    }
   ],
   "source": [
    "print(att_strength('Stoke', 'AwayTeam', 19, data))"
   ]
  },
  {
   "cell_type": "code",
   "execution_count": 96,
   "id": "abc2f80d",
   "metadata": {},
   "outputs": [
    {
     "name": "stdout",
     "output_type": "stream",
     "text": [
      "[1.235, 0.654]\n"
     ]
    }
   ],
   "source": [
    "print(att_strength('Tottenham', 'HomeTeam', 19, data))"
   ]
  },
  {
   "cell_type": "code",
   "execution_count": 55,
   "id": "4d7b73e2",
   "metadata": {},
   "outputs": [],
   "source": [
    "# calculate each teams expected goals\n",
    "def exp_goals(home, away, num_of_games, data):\n",
    "    home_str =  team_strengths(home, 'HomeTeam', num_of_games, data)\n",
    "    away_str = team_strengths(away,'AwayTeam', num_of_games, data)\n",
    "    lg_avg = lg_avg = calc_lge_avg(data, num_of_games)\n",
    "    \n",
    "    home_exp = round(home_str[0] * away_str[1] * lg_avg[0], 3)\n",
    "    away_exp = round(away_str[0] * home_str[1] * lg_avg[1], 3)\n",
    "    \n",
    "    return [home_exp, away_exp]\n",
    "    "
   ]
  },
  {
   "cell_type": "code",
   "execution_count": 56,
   "id": "84ccf8e9",
   "metadata": {},
   "outputs": [
    {
     "name": "stdout",
     "output_type": "stream",
     "text": [
      "[2.014, 0.654]\n"
     ]
    }
   ],
   "source": [
    "print(exp_goals('Tottenham', 'Stoke', 19, data))"
   ]
  },
  {
   "cell_type": "code",
   "execution_count": null,
   "id": "64b87a22",
   "metadata": {},
   "outputs": [],
   "source": []
  }
 ],
 "metadata": {
  "kernelspec": {
   "display_name": "Python 3",
   "language": "python",
   "name": "python3"
  },
  "language_info": {
   "codemirror_mode": {
    "name": "ipython",
    "version": 3
   },
   "file_extension": ".py",
   "mimetype": "text/x-python",
   "name": "python",
   "nbconvert_exporter": "python",
   "pygments_lexer": "ipython3",
   "version": "3.8.8"
  }
 },
 "nbformat": 4,
 "nbformat_minor": 5
}
